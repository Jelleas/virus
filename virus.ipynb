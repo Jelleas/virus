{
 "cells": [
  {
   "cell_type": "markdown",
   "metadata": {},
   "source": [
    "# Virus: Infection\n",
    "\n",
    "![](virus.jpg)\n",
    "\n",
    "Voor o.a. de farmaceutische industrie is het belangrijk om de succeskans van een geneesmiddel te bepalen.\n",
    "Dit is lastig analytisch te doen, maar we kunnen het wel modelleren.\n",
    "In deze opdracht ga je virusdeeltjes simuleren, welke kunnen reproduceren en sterven.\n",
    "We bouwen deze opdracht stap voor stap op, tot een gehele simulatie.\n",
    "\n",
    "Onder elke tussenstap vind je een code blok met een functie die jij gaat implementeren. Onder deze functie staat een stukje test code. Dat is code die de functie aanroept om even snel te checken of deze wel klopt. Deze tests zijn niet compleet, er kunnen nog bugs in de functie zitten ook al slagen de tests. Vertrouw er dus niet te veel op! Het is de bedoeling dat je deze tests aanvult als je dat nodig / handig lijkt.\n"
   ]
  },
  {
   "cell_type": "markdown",
   "metadata": {},
   "source": [
    "\n",
    "### Tussenstap 1: Virusgenoom\n",
    "\n",
    "Als model voor een virusgenoom gaan we gebruik maken van een DNA string welke bestaat uit de vier nucleotiden ATGC.\n",
    "A (Adenine) is altijd verbonden met T (Thymine), G (Guanine) is altijd verbonden met C (Cytosine).\n",
    "Voor de representatie doen we het volgende, een serie van nucleotides in een string.\n",
    "Aangezien er maar 4 mogelijkheden zijn voor baseparen (AT, GC, TA, CG), kunnen we dit encoderen met de 4 letters.\n",
    "Zie bijvoorbeeld de volgende string:\n",
    "\n",
    "\tAGTC\n",
    "\n",
    "Dit is een DNA string met alle vier base paren, eerst het paar AT, dan GC, dan TA, en als laatste CG.\n",
    "Effectief laten we telkens het aanhangende nucleotide weg, dat maakt de representatie wat simpeler!\n",
    "\n",
    "* Schrijf een functie `generateVirus(length)`.\n",
    "\t* Deze functie accepteert één argument, `length`, dat is een integer die de lengte van het virusgenoom representeerd.\n",
    "\t* De functie moet een string returnen bestaande uit een willekeurige sequentie van nucleotides.\n",
    "* Oh, one more thing: Je mag maar **twee regels code** gebruiken voor deze functie (dat is inclusief de regel `def generateVirus(length):`).\n",
    "\n",
    "### Tips\n",
    "\n",
    "* Kijk eens naar de `random.choice()` functie.\n",
    "* Gebruik een list comprehension en de `\"\".join()` methode van een string."
   ]
  },
  {
   "cell_type": "code",
   "execution_count": 31,
   "metadata": {},
   "outputs": [
    {
     "name": "stdout",
     "output_type": "stream",
     "text": [
      "should print a random virus of length 4: None\n",
      "should print a random virus of length 7: None\n",
      "should print a random virus of length 10: None\n"
     ]
    }
   ],
   "source": [
    "import random\n",
    "\n",
    "def generateVirus(length):\n",
    "    # TODO\n",
    "    pass\n",
    "\n",
    "# tests\n",
    "print(\"should print a random virus of length 4:\", generateVirus(4))\n",
    "print(\"should print a random virus of length 7:\", generateVirus(7))\n",
    "print(\"should print a random virus of length 10:\", generateVirus(10))"
   ]
  },
  {
   "cell_type": "markdown",
   "metadata": {},
   "source": [
    "### Tussenstap 2: Muteren\n",
    "\n",
    "Zodra een virus wordt geboren heeft deze een kans te muteren.\n",
    "Muteren is het veranderen van één willekeurig nucleotide voor een willekeurige ander.\n",
    "Bijvoorbeeld van AGTC naar ATTC.\n",
    "\n",
    "* Schrijf een functie `mutate(virus)`.\n",
    "\t* Deze functie accepteert één argument, `virus`, dat is een string van nucleotides.\n",
    "\t* De functie moet een string returnen bestaande uit dezelfde nucleotides, waarvan er één is gemuteerd.\n",
    "* Geen regellimiet dit keer, maar als je jezelf wilt uitdagen: 3 (of minder) regels is mogelijk.\n",
    "\n",
    "### Tips\n",
    "\n",
    "* Kijk eens naar de `random.randrange()` functie!\n",
    "* Gebruik list slicing."
   ]
  },
  {
   "cell_type": "code",
   "execution_count": 29,
   "metadata": {},
   "outputs": [
    {
     "name": "stdout",
     "output_type": "stream",
     "text": [
      "should print True: False\n"
     ]
    }
   ],
   "source": [
    "def mutate(virus):\n",
    "    # TODO\n",
    "    pass\n",
    "\n",
    "# tests\n",
    "virus = generateVirus(4)\n",
    "print(\"should print True:\", all(virus != mutate(virus) for _ in range(1000)))"
   ]
  },
  {
   "cell_type": "markdown",
   "metadata": {},
   "source": [
    "### Tussenstap 3: Afsterven\n",
    "\n",
    "Virussen sterven uiteindelijk ook, dit gebeurt met een bepaalde kans per tijdstap in de simulatie.\n",
    "\n",
    "* Schrijf een functie `kill(viruses, mortalityProb)`.\n",
    "\t* Deze functie accepteert twee argumenten:\n",
    "\t\t* `viruses` is een lijst van virusgenomen.\n",
    "\t\t* `mortalityProb` is een float tussen 0 en 1 (inclusief) die de kans op het afsterven per virusdeeltje representeert.\n",
    "\t* De functie moet een **nieuwe** lijst returnen met daarin de virusgenomen die het hebben overleefd.\n",
    "* Let op, elk virusgenoom heeft een individuele kans om af te sterven. Dus bij een `mortalityProb` van 0.2 overleeft gemiddeld 80% van de viruspopulatie het, maar dit kan fluctueren!\n",
    "* Je mag hier **twee regels code** gebruiken (dat is inclusief de regel `def kill(viruses, mortalityProb):`).\n",
    "\n",
    "### Tip\n",
    "\n",
    "* Gebruik een list comprehension!\n"
   ]
  },
  {
   "cell_type": "code",
   "execution_count": 30,
   "metadata": {},
   "outputs": [
    {
     "name": "stdout",
     "output_type": "stream",
     "text": [
      "should print roughly 750 on average 0\n"
     ]
    }
   ],
   "source": [
    "def kill(viruses, mortalityProb):\n",
    "    # TODO\n",
    "    return [] # <- remove\n",
    "\n",
    "# tests\n",
    "viruses = [generateVirus(4) for _ in range(1000)]\n",
    "print(\"should print roughly 750 on average\", len(kill(viruses, 0.25)))"
   ]
  },
  {
   "cell_type": "markdown",
   "metadata": {},
   "source": [
    "### Tussenstap 4: Reproductie\n",
    "\n",
    "Een virus heeft een kans zich voort te planten op elke tijdstap in de simulatie.\n",
    "Als een virus zich voortplant dan heeft het kind exact dezelfde DNA string als de ouder.\n",
    "Behalve als het kind muteert, dan is er één basepaar anders.\n",
    "\n",
    "* Schrijf voor reproductie een functie `reproduce(viruses, mutationProb, reproductionProb)`.\n",
    "\t* Deze functie accepteert drie argumenten:\n",
    "\t\t* `viruses` is een lijst van virusgenomen.\n",
    "\t\t* `mutationProb` is een float tussen 0 en 1 (inclusief) die de kans op mutatie bij het kind virusdeeltje representeert.\n",
    "\t\t* `reproductionProb` is een float tussen 0 en 1 (inclusief) die de kans op reproductie per virusdeeltje representeert.\n",
    "* De functìe moet de lijst van de totale populatie van virusgenomen returnen. Dat is dus inclusief de ouders!\n",
    "* Let op, elk virusgenoom heeft een individuele kans om te reproduceren. Dus bij een `reproductionProb` van 0.2 reproduceert gemiddeld 20% van de populatie, maar dit kan fluctueren!\n",
    "* Geen regellimiet dit keer, maar als je jezelf wilt uitdagen: 2 regels is mogelijk.\n"
   ]
  },
  {
   "cell_type": "code",
   "execution_count": 27,
   "metadata": {},
   "outputs": [
    {
     "name": "stdout",
     "output_type": "stream",
     "text": [
      "should print roughly 1250 on average 0\n",
      "should print roughly 250 on average 1\n"
     ]
    }
   ],
   "source": [
    "def reproduce(viruses, mutationProb, reproductionProb):\n",
    "    # TODO\n",
    "    return [] # <- remove\n",
    "\n",
    "# tests\n",
    "viruses = [\"AAAA\" for _ in range(1000)]\n",
    "print(\"should print roughly 1250 on average\", len(reproduce(viruses, 0.1, 0.25)))\n",
    "new_viruses = reproduce(viruses, 0.25, 1)\n",
    "children_viruses = set(viruses) ^ set(new_viruses)\n",
    "print(\"should print roughly 250 on average\", len(children_viruses))"
   ]
  },
  {
   "cell_type": "markdown",
   "metadata": {},
   "source": [
    "### Reproductiekans als functie van populatie grootte\n",
    "\n",
    "Naarmate er meer virusdeeltjes aanwezig zijn, wordt de kans op reproductie kleiner.\n",
    "Er is simpelweg niet genoeg ruimte voor alle virusdeeltjes.\n",
    "Er is een negatief linear verband tussen het aantal virussen en de reproductie kans.\n",
    "De kans op reproductie is gelijk aan `(1 - (grootte_van_virus_populatie / maximaal_aantal_virussen)) * maximale_reproductie_kans`.\n",
    "De functie om de kans per individueel virusdeeltje in een populatie te berekenen vind je hieronder:\n"
   ]
  },
  {
   "cell_type": "code",
   "execution_count": 28,
   "metadata": {},
   "outputs": [],
   "source": [
    "def reproductionProbability(viruses, maxReproductionProb, maxPopulation):\n",
    "    return (1 - (len(viruses) / maxPopulation)) * maxReproductionProb "
   ]
  },
  {
   "cell_type": "markdown",
   "metadata": {},
   "source": [
    "### Tussenstap 5: Simuleren\n",
    "\n",
    "Nu we een representatie hebben voor virussen, deze kunnen laten muteren, doen sterven, en laten reproduceren, kunnen we gaan simuleren.\n",
    "Laat per tijdstap eerst virussen afsterven, daarna bereken je pas de reproductie kans en laat je ze reproduceren.\n",
    "\n",
    "* Schrijf een functie `simulate(viruses, mortalityProb, mutationProb, maxReproductionProb, maxPopulation, timesteps = 500)`.\n",
    "\t* Deze functie accepteert vijf argumenten, en één optioneel argument:\n",
    "\t\t* `viruses` is een lijst van virusgenomen.\n",
    "\t\t* `mortalityProb` is een float tussen 0 en 1 (inclusief) die de kans op het afsterven per virusdeeltje representeert.\n",
    "\t\t* `mutationProb` is een float tussen 0 en 1 (inclusief) die de kans op mutatie bij reproductie representeert.\n",
    "\t\t* `maxReproductionProb` is een float tussen 0 en 1 (inclusief) die de maximale kans op reproductie per virusdeeltje representeert.\n",
    "\t\t* `maxPopulation` is een integer voor de maximale populatiegrootte.\n",
    "\t\t* `timesteps` is een integer en een optioneel argument die het aantal tijdstappen in de simulatie aangeeft.\n",
    "\n",
    "\t* De functie moet een lijst returnen met daarin de populatiegrootte (een integer) op elke tijdstap.\n",
    "\n",
    "### Tips\n",
    "\n",
    "* Test deze functie zorgvuldig! Maak eventueel een plot van de uitkomst, gebeurt er wat je verwacht?\n",
    "* Let op, als `timesteps = 500`, dan moet `simulate()` een lijst van `501` lang returnen!"
   ]
  },
  {
   "cell_type": "code",
   "execution_count": 26,
   "metadata": {},
   "outputs": [
    {
     "name": "stdout",
     "output_type": "stream",
     "text": [
      "should print 501 1\n",
      "should print 0 0\n",
      "should print close to 2000 0\n"
     ]
    }
   ],
   "source": [
    "def simulate(viruses, mortalityProb, mutationProb, maxReproductionProb, maxPopulation, timesteps = 500):\n",
    "    # TODO\n",
    "    return [0] # <- remove\n",
    "\n",
    "# tests\n",
    "viruses = [generateVirus(4) for _ in range(100)]\n",
    "print(\"should print 501\", len(simulate(viruses, 1, 0, 0, 0)))\n",
    "print(\"should print 0\", simulate(viruses, 0.1, 0, 0, 0)[-1])\n",
    "print(\"should print close to 2000\", simulate(viruses, 0, 0, 1, 2000)[-1])"
   ]
  },
  {
   "cell_type": "markdown",
   "metadata": {},
   "source": [
    "# Virus: Geneesmiddel\n",
    "\n",
    "![](medicine.png)\n",
    "\n",
    "In dit deel van de module gaan we een geneesmiddel introduceren dat de virussen bestrijdt.\n",
    "Maar virussen kunnen resistent zijn, en hun kinderen kunnen het worden.\n",
    "Een resistent virus is een virus dat `AAA` in zijn DNA string heeft.\n",
    "Zodra het geneesmiddel wordt geintroduceerd, kunnen alle virussen behalve resistente virussen niet meer reproduceren."
   ]
  },
  {
   "cell_type": "markdown",
   "metadata": {},
   "source": [
    "### Tussenstap 6: Resistentie\n",
    "Allereerst gaan we kijken of een virusgenoom resistent is.\n",
    "\n",
    "* Schrijf een functie `isResistent(virus)`.\n",
    "\t* Deze functie accepteert één argument, `virus`, dit is een virusgenoom.\n",
    "\t* De functie moet een boolean returnen welke aangeeft of het virus resistent is (`True`) of niet (`False`).\n",
    "* Een virus is enkel resistent als `AAA` achterelkaar voorkomt.\n",
    "\n",
    "### Tip\n",
    "\n",
    "* Kijk eens naar de functie `string.find()`!"
   ]
  },
  {
   "cell_type": "code",
   "execution_count": 17,
   "metadata": {},
   "outputs": [
    {
     "name": "stdout",
     "output_type": "stream",
     "text": [
      "True\n",
      "True\n",
      "True\n"
     ]
    }
   ],
   "source": [
    "import string\n",
    "\n",
    "def isResistent(virus):\n",
    "    # TODO\n",
    "    return True # <- remove\n",
    "\n",
    "# tests\n",
    "print(isResistent(\"AAA\")) # should print True\n",
    "print(isResistent(\"GCAAATG\")) # should print True\n",
    "print(isResistent(\"GCATATG\")) # should print False"
   ]
  },
  {
   "cell_type": "markdown",
   "metadata": {},
   "source": [
    "### Tussenstap 7: Simuleren met een geneesmiddel\n",
    "Nu kunnen we het effect gaan bestuderen van de introductie van een geneesmiddel.\n",
    "We dienen het geneesmiddel toe zodra de diagnose is gesteld, bij de 100ste tijdstap.\n",
    "Laat per tijdstap eerst virussen afsterven, daarna bereken je pas de reproductie kans en laat je ze reproduceren.\n",
    "\n",
    "* Schrijf een functie genaamd `simulate_medicine(viruses, mortalityProb, mutationProb, maxReproductionProb, maxPopulation, timesteps = 500)`.\n",
    "\t* Deze functie accepteert vijf argumenten, en één optioneel argument:\n",
    "\t\t* `viruses` is een lijst van virusgenomen.\n",
    "\t\t* `mortalityProb` is een float tussen 0 en 1 (inclusief) die de kans op het afsterven per virusdeeltje representeert.\n",
    "\t\t* `reproductionProb` is een float tussen 0 en 1 (inclusief) die de kans op reproductie per virusdeeltje representeert.\n",
    "\t\t* `maxPopulation` is een integer voor de maximale populatiegrootte.\n",
    "\t\t* `mutationProb` is een float tussen 0 en 1 (inclusief) die de kans op mutatie bij reproductie representeert.\n",
    "\t\t* `timesteps` is een integer en een optioneel argument die het aantal tijdstappen in de simulatie aangeeft.\n",
    "\t* De functie moet een lijst returnen met daarin de populatiegrootte (een integer) op elke tijdstap.\n",
    "* In tegenstelling tot `simulate()` van `infection.py` mag een virus enkel reproduceren als het resistent is na de 100ste tijdstap.\n",
    "\n",
    "### Tips\n",
    "* Test deze functie goed!\n",
    "* Maak eventueel een plot, gebeurt er wat je verwacht?"
   ]
  },
  {
   "cell_type": "code",
   "execution_count": 32,
   "metadata": {},
   "outputs": [
    {
     "name": "stdout",
     "output_type": "stream",
     "text": [
      "should print 501: 1\n",
      "should print 0: 0\n",
      "should print 25-30 on average, can fluctuate: 0.0\n"
     ]
    }
   ],
   "source": [
    "def simulateMedicine(viruses, mortalityProb, mutationProb, maxReproductionProb, maxPopulation, timesteps = 500):\n",
    "    # TODO\n",
    "    return [0] # <- remove\n",
    "\n",
    "# tests\n",
    "viruses = [generateVirus(4) for _ in range(100)]\n",
    "print(\"should print 501:\", len(simulateMedicine(viruses, 1, 0, 0, 0))) \n",
    "print(\"should print 0:\", simulateMedicine(viruses, 0.1, 0, 0, 0)[-1])\n",
    "sims = []\n",
    "n = 100\n",
    "for i in range(n):\n",
    "    viruses = [generateVirus(4) for _ in range(100)]\n",
    "    sims.append(simulateMedicine(viruses, 0.1, 0.1, 0.5, 100, timesteps = 1000)[-1])\n",
    "print(\"should print 25-30 on average, can fluctuate:\", sum(sims) / n) "
   ]
  },
  {
   "cell_type": "markdown",
   "metadata": {},
   "source": [
    "### Tussenstap 8: Genezing?\n",
    "Met de volgende parameters:\n",
    "\n",
    "* tijdstappen = 500\n",
    "* genoomlengte = 16\n",
    "* start virus populatie grootte = 10\n",
    "* maximale virus populatie grootte = 1000\n",
    "* maximale reproductie kans = 7%\n",
    "* sterfte kans = 5%\n",
    "* mutatie kans = 10%\n",
    "\n",
    "Hoeveel van percent van de patienten is volledig genezen? Een patient is volledig genezen als er geen virusdeeltjes aanwezig zijn in de laatste tijdstap.\n",
    "\n",
    "* Schrijf hiervoor een functie `experiment(numberOfPatients)`.\n",
    "\t* Deze functie accepteert één argument, `numberOfPatients`, dit is het aantal patienten in het experiment.\n",
    "\t* De functie moet een integer returnen dat het aantal compleet genezen patienten teruggeeft.\n",
    "\n"
   ]
  },
  {
   "cell_type": "code",
   "execution_count": null,
   "metadata": {},
   "outputs": [],
   "source": [
    "def experiment(numberOfPatients):\n",
    "    # TODO\n",
    "    return 0 # <- remove\n",
    "\n",
    "# tests\n",
    "# TODO"
   ]
  }
 ],
 "metadata": {
  "kernelspec": {
   "display_name": "Python 3",
   "language": "python",
   "name": "python3"
  },
  "language_info": {
   "codemirror_mode": {
    "name": "ipython",
    "version": 3
   },
   "file_extension": ".py",
   "mimetype": "text/x-python",
   "name": "python",
   "nbconvert_exporter": "python",
   "pygments_lexer": "ipython3",
   "version": "3.7.0"
  }
 },
 "nbformat": 4,
 "nbformat_minor": 2
}
